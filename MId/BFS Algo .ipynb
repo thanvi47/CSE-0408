{
 "cells": [
  {
   "cell_type": "code",
   "execution_count": 52,
   "id": "c93e2e65",
   "metadata": {
    "scrolled": true
   },
   "outputs": [
    {
     "name": "stdout",
     "output_type": "stream",
     "text": [
      " Breadth First Search (start 2)\n",
      "2 3 0 1 "
     ]
    }
   ],
   "source": [
    "\n",
    "\n",
    "\n",
    "\n",
    "'''Python3 Program to print Breadth First Search'''\n",
    "\n",
    "\n",
    "\n",
    "from collections import defaultdict\n",
    "\n",
    "\n",
    "class Graph:\n",
    "\n",
    "\n",
    "\tdef __init__(self):\n",
    "\n",
    "\n",
    "\t\tself.graph = defaultdict(list)\n",
    "\n",
    "\n",
    "\tdef addEdge(self,u,v):\n",
    "\t\tself.graph[u].append(v)\n",
    "\n",
    "\tdef BFS(self, s):\n",
    "\n",
    "\n",
    "\t\tvisited = [False] * (max(self.graph) + 1)\n",
    "\n",
    "\n",
    "\t\tqueue = []\n",
    "\n",
    "\t\tqueue.append(s)\n",
    "\t\tvisited[s] = True\n",
    "\n",
    "\t\twhile queue:\n",
    "\n",
    "\n",
    "\t\t\ts = queue.pop(0)\n",
    "\t\t\tprint (s, end = \" \")\n",
    "\n",
    "\n",
    "\t\t\tfor i in self.graph[s]:\n",
    "\t\t\t\tif visited[i] == False:\n",
    "\t\t\t\t\tqueue.append(i)\n",
    "\t\t\t\t\tvisited[i] = True\n",
    "\n",
    "\n",
    "g = Graph()\n",
    "g.addEdge(0, 1)\n",
    "g.addEdge(1, 2)\n",
    "g.addEdge(2, 2)\n",
    "g.addEdge(3, 0)\n",
    "g.addEdge(2, 3)\n",
    "g.addEdge(4, 3)\n",
    "\n",
    "print (\" Breadth First Search\"\n",
    "\" (start 2)\")\n",
    "g.BFS(2)\n",
    "\n",
    "\n",
    "\n"
   ]
  },
  {
   "cell_type": "code",
   "execution_count": null,
   "id": "e412dd21",
   "metadata": {},
   "outputs": [],
   "source": []
  },
  {
   "cell_type": "code",
   "execution_count": null,
   "id": "4307ece3",
   "metadata": {},
   "outputs": [],
   "source": []
  }
 ],
 "metadata": {
  "kernelspec": {
   "display_name": "Python 3",
   "language": "python",
   "name": "python3"
  },
  "language_info": {
   "codemirror_mode": {
    "name": "ipython",
    "version": 3
   },
   "file_extension": ".py",
   "mimetype": "text/x-python",
   "name": "python",
   "nbconvert_exporter": "python",
   "pygments_lexer": "ipython3",
   "version": "3.8.8"
  }
 },
 "nbformat": 4,
 "nbformat_minor": 5
}
